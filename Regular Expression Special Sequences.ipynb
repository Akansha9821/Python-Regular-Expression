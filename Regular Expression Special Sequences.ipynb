{
 "cells": [
  {
   "cell_type": "markdown",
   "id": "cadd2fd5",
   "metadata": {},
   "source": [
    "### A special sequence is a \\ followed by one of the characters in the list below, and has a special meaning:"
   ]
  },
  {
   "cell_type": "markdown",
   "id": "13439443",
   "metadata": {},
   "source": [
    "|  Character    |    Description    |\n",
    "|---------------|-------------------|\n",
    "|\\A|Returns a match if the specified characters are at the beginning of the string|\n",
    "|\\b|Returns a match where the specified characters are at the beginning or at the end of a word|\n",
    "|\\B|Returns a match where the specified characters are present, but NOT at the beginning (or at the end) of a word|\n",
    "|\\d|Returns a match where the string contains digits (numbers from 0-9)|\n",
    "|\\D|Returns a match where the string DOES NOT contain digits|\n",
    "|\\s|Returns a match where the string contains a white space character|\n",
    "|\\S|Returns a match where the string DOES NOT contain a white space character|\n",
    "|\\w|Returns a match where the string contains any word characters (characters from a to Z, digits from 0-9, and the underscore _ character)|\n",
    "|\\W|Returns a match where the string DOES NOT contain any word characters|\n",
    "|\\Z|Returns a match if the specified characters are at the end of the string\t|"
   ]
  },
  {
   "cell_type": "code",
   "execution_count": 3,
   "id": "9931630c",
   "metadata": {},
   "outputs": [
    {
     "name": "stdout",
     "output_type": "stream",
     "text": [
      "Yes, there is a match!\n"
     ]
    }
   ],
   "source": [
    "# \\A\n",
    "import re\n",
    "txt = \"The rain in Spain\"\n",
    "x = re.findall('\\AThe', txt)\n",
    "if x:\n",
    "  print(\"Yes, there is a match!\")\n",
    "else:\n",
    "  print(\"No match\")"
   ]
  },
  {
   "cell_type": "code",
   "execution_count": 9,
   "id": "6cbdb094",
   "metadata": {},
   "outputs": [
    {
     "name": "stdout",
     "output_type": "stream",
     "text": [
      "No\n"
     ]
    }
   ],
   "source": [
    "# \\b\n",
    "txt = \"The rain in Spain\"\n",
    "x = re.findall('\\bb', txt)\n",
    "y = re.findall('\\bThe', txt)\n",
    "if y:\n",
    "    print(y)\n",
    "else:\n",
    "    print('No')\n"
   ]
  },
  {
   "cell_type": "code",
   "execution_count": null,
   "id": "230c210b",
   "metadata": {},
   "outputs": [],
   "source": []
  }
 ],
 "metadata": {
  "kernelspec": {
   "display_name": "Python 3",
   "language": "python",
   "name": "python3"
  },
  "language_info": {
   "codemirror_mode": {
    "name": "ipython",
    "version": 3
   },
   "file_extension": ".py",
   "mimetype": "text/x-python",
   "name": "python",
   "nbconvert_exporter": "python",
   "pygments_lexer": "ipython3",
   "version": "3.6.3"
  }
 },
 "nbformat": 4,
 "nbformat_minor": 5
}
