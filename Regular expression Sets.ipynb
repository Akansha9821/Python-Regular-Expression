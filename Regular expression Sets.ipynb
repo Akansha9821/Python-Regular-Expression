{
 "cells": [
  {
   "cell_type": "markdown",
   "id": "76b8a3f2",
   "metadata": {},
   "source": [
    "### A set is a set of characters inside a pair of square brackets [] with a special meaning:"
   ]
  },
  {
   "cell_type": "code",
   "execution_count": null,
   "id": "21bab7f2",
   "metadata": {},
   "outputs": [],
   "source": [
    "|Set|Description|\n",
    "|---|-----------|\n",
    "|[arn]|Returns a match where one of the specified characters (a, r, or n) are present|\n",
    "|[a-n]|Returns a match for any lower case character, alphabetically between a and n|\n",
    "|[^arn]|Returns a match for any character EXCEPT a, r, and n|\n",
    "|[0123]|Returns a match where any of the specified digits (0, 1, 2, or 3) are present|\n",
    "|[0-9]|Returns a match for any digit between 0 and 9|\n",
    "|[0-5][0-9]|\n",
    "|[a-zA-Z]|\n",
    "|[+]|"
   ]
  }
 ],
 "metadata": {
  "kernelspec": {
   "display_name": "Python 3",
   "language": "python",
   "name": "python3"
  },
  "language_info": {
   "codemirror_mode": {
    "name": "ipython",
    "version": 3
   },
   "file_extension": ".py",
   "mimetype": "text/x-python",
   "name": "python",
   "nbconvert_exporter": "python",
   "pygments_lexer": "ipython3",
   "version": "3.6.3"
  }
 },
 "nbformat": 4,
 "nbformat_minor": 5
}
