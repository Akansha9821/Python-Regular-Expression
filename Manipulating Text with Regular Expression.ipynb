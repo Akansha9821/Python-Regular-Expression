{
 "cells": [
  {
   "cell_type": "markdown",
   "id": "f6a5b722",
   "metadata": {},
   "source": [
    "### A RegEx, or Regular Expression, is a sequence of characters that forms a search pattern.\n",
    "\n",
    "### RegEx can be used to check if a string contains the specified search pattern."
   ]
  },
  {
   "cell_type": "code",
   "execution_count": 3,
   "id": "b4de015c",
   "metadata": {},
   "outputs": [],
   "source": [
    "#  import re module \n",
    "import re"
   ]
  },
  {
   "cell_type": "code",
   "execution_count": 4,
   "id": "2bdca3a4",
   "metadata": {},
   "outputs": [
    {
     "name": "stdout",
     "output_type": "stream",
     "text": [
      "very good\n"
     ]
    }
   ],
   "source": [
    "text = \"Akansha is a good girl.\"\n",
    "if re.search('good', text):\n",
    "    print(\"very good\")\n",
    "else:\n",
    "    print('very bed')"
   ]
  },
  {
   "cell_type": "markdown",
   "id": "7b607732",
   "metadata": {},
   "source": [
    "## Regex Function\n",
    "#### The re module offers a set of functions that allows us to search a string for a match like\n",
    "#### 1 search -> serach value inside text if value present, return match object. else return none\n",
    "#### 2 split -> Returns a list where the string has been split at each match\n",
    "#### 3 findall -> Returns a list containing all matches.\n",
    "#### 4 sub ->  \tReplaces one or many matches with a string\n"
   ]
  },
  {
   "cell_type": "code",
   "execution_count": 15,
   "id": "e2fd71b9",
   "metadata": {},
   "outputs": [
    {
     "data": {
      "text/plain": [
       "<_sre.SRE_Match object; span=(12, 14), match='is'>"
      ]
     },
     "execution_count": 15,
     "metadata": {},
     "output_type": "execute_result"
    }
   ],
   "source": [
    "#  Search Function\n",
    "text = \"Lorem Ipsum is simply dummy text of the printing and typesetting industry. Lorem Ipsum has been the industry's standard dummy text ever since the 1500s, when an unknown printer took a galley of type and scrambled it to make a type specimen book. It has survived not only five centuries, but also the leap into electronic typesetting, remaining\"\n",
    "re.search('is', text)"
   ]
  },
  {
   "cell_type": "code",
   "execution_count": 16,
   "id": "78f2015c",
   "metadata": {},
   "outputs": [
    {
     "data": {
      "text/plain": [
       "['a', 'a', 'a', 'a', 'a', 'a', 'a', 'a', 'a', 'a', 'a', 'a', 'a', 'a', 'a']"
      ]
     },
     "execution_count": 16,
     "metadata": {},
     "output_type": "execute_result"
    }
   ],
   "source": [
    "#  findall function\n",
    "re.findall('a', text)"
   ]
  },
  {
   "cell_type": "code",
   "execution_count": 17,
   "id": "6c76d45e",
   "metadata": {},
   "outputs": [
    {
     "data": {
      "text/plain": [
       "['Lore',\n",
       " 'Ipsu',\n",
       " 'i',\n",
       " 'simpl',\n",
       " 'dumm',\n",
       " 'tex',\n",
       " 'o',\n",
       " 'th',\n",
       " 'printin',\n",
       " 'an',\n",
       " 'typesettin',\n",
       " 'industry',\n",
       " 'Lore',\n",
       " 'Ipsu',\n",
       " 'ha',\n",
       " 'bee',\n",
       " 'th',\n",
       " \"industry'\",\n",
       " 'standar',\n",
       " 'dumm',\n",
       " 'tex',\n",
       " 'eve',\n",
       " 'sinc',\n",
       " 'th',\n",
       " '1500s',\n",
       " 'whe',\n",
       " 'a',\n",
       " 'unknow',\n",
       " 'printe',\n",
       " 'too',\n",
       " '',\n",
       " 'galle',\n",
       " 'o',\n",
       " 'typ',\n",
       " 'an',\n",
       " 'scramble',\n",
       " 'i',\n",
       " 't',\n",
       " 'mak',\n",
       " '',\n",
       " 'typ',\n",
       " 'specime',\n",
       " 'book',\n",
       " 'I',\n",
       " 'ha',\n",
       " 'survive',\n",
       " 'no',\n",
       " 'onl',\n",
       " 'fiv',\n",
       " 'centuries',\n",
       " 'bu',\n",
       " 'als',\n",
       " 'th',\n",
       " 'lea',\n",
       " 'int',\n",
       " 'electroni',\n",
       " 'typesetting',\n",
       " 'remaining']"
      ]
     },
     "execution_count": 17,
     "metadata": {},
     "output_type": "execute_result"
    }
   ],
   "source": [
    "#  split function\n",
    "re.split('. ', text)"
   ]
  },
  {
   "cell_type": "code",
   "execution_count": 19,
   "id": "e5d19ddc",
   "metadata": {},
   "outputs": [
    {
     "data": {
      "text/plain": [
       "\"Lorem Ipsum is simply dummy text of the printing and typesetting industry. Lorem Ipsum has been the industry's standard dummy text ever since the 1500s, when an unknown printer took a galley of type and scrambled it to make a type specimen book. It has survived not only five centuries, but also the leap into electronic typesetting, remaining\""
      ]
     },
     "execution_count": 19,
     "metadata": {},
     "output_type": "execute_result"
    }
   ],
   "source": [
    "text"
   ]
  },
  {
   "cell_type": "code",
   "execution_count": 22,
   "id": "4364ee59",
   "metadata": {},
   "outputs": [
    {
     "data": {
      "text/plain": [
       "\"Lorem4Ipsum4is4simply4dummy4text4of4the4printing4and4typesetting4industry.4Lorem4Ipsum4has4been4the4industry's4standard4dummy4text4ever4since4the41500s,4when4an4unknown4printer4took4a4galley4of4type4and4scrambled4it4to4make4a4type4specimen4book.4It4has4survived4not4only4five4centuries,4but4also4the4leap4into4electronic4typesetting,4remaining\""
      ]
     },
     "execution_count": 22,
     "metadata": {},
     "output_type": "execute_result"
    }
   ],
   "source": [
    "# sub function\n",
    "re.sub('\\s', \"4\", text) # here \\s is for all space that text contain"
   ]
  },
  {
   "cell_type": "code",
   "execution_count": 26,
   "id": "a468e032",
   "metadata": {},
   "outputs": [
    {
     "name": "stdout",
     "output_type": "stream",
     "text": [
      "less than five\n"
     ]
    }
   ],
   "source": [
    "if len(re.findall('Lorem', text)) > 5:\n",
    "    print('greater than 5')\n",
    "else:\n",
    "    print(\"less than five\")\n",
    "    "
   ]
  },
  {
   "cell_type": "code",
   "execution_count": 25,
   "id": "40a07b1b",
   "metadata": {},
   "outputs": [
    {
     "data": {
      "text/plain": [
       "2"
      ]
     },
     "execution_count": 25,
     "metadata": {},
     "output_type": "execute_result"
    }
   ],
   "source": [
    "len(re.findall('Lorem', text))"
   ]
  },
  {
   "cell_type": "code",
   "execution_count": 31,
   "id": "5e544cd4",
   "metadata": {},
   "outputs": [
    {
     "data": {
      "text/plain": [
       "[\"Lorem Ipsum is simply dummy text of the printing and typesetting industry. Lorem Ipsum has been the industry's standard dummy text ever since the 1500s\",\n",
       " 'when an unknown printer took a galley of type and scrambled it to make a type specimen book. It has survived not only five centuries',\n",
       " 'but also the leap into electronic typesetting, remaining']"
      ]
     },
     "execution_count": 31,
     "metadata": {},
     "output_type": "execute_result"
    }
   ],
   "source": [
    "re.split(', ', text, 2)"
   ]
  },
  {
   "cell_type": "code",
   "execution_count": null,
   "id": "f6c31975",
   "metadata": {},
   "outputs": [],
   "source": []
  }
 ],
 "metadata": {
  "kernelspec": {
   "display_name": "Python 3",
   "language": "python",
   "name": "python3"
  },
  "language_info": {
   "codemirror_mode": {
    "name": "ipython",
    "version": 3
   },
   "file_extension": ".py",
   "mimetype": "text/x-python",
   "name": "python",
   "nbconvert_exporter": "python",
   "pygments_lexer": "ipython3",
   "version": "3.6.3"
  }
 },
 "nbformat": 4,
 "nbformat_minor": 5
}
