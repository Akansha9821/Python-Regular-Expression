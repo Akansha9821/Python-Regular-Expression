{
 "cells": [
  {
   "cell_type": "markdown",
   "id": "090b54d4",
   "metadata": {},
   "source": [
    "## Metacharacters\n",
    "### Metacharacters are characters with a special meaning:\n",
    "\n",
    "\n",
    "| Character | Description|\n",
    "|-----------|------------|\n",
    "|[]         | A set of characters|\n",
    "|\\          |Signals a special sequence (can also be used to escape special characters)|\n",
    "|.          |Any character (except newline character)|\n",
    "|^          | Start With |\n",
    "|$       | Ends with|\n",
    "|*  | Zero or more occurrences |\n",
    "|+ | one or more occurrences|\n",
    "|? | Zero or one occurrences|\n",
    "|{} | Exactly the specified number of occurrences|\n",
    "|() | \tCapture and group|\n",
    "| | | Either or or |\n",
    "\n",
    "## lets Try one by one"
   ]
  },
  {
   "cell_type": "code",
   "execution_count": 2,
   "id": "63074f0b",
   "metadata": {},
   "outputs": [
    {
     "data": {
      "text/plain": [
       "['t', 'o', 'd', 'y', 'i', 's', 'v', 'e', 'r', 'y', 'h', 'o', 't']"
      ]
     },
     "execution_count": 2,
     "metadata": {},
     "output_type": "execute_result"
    }
   ],
   "source": [
    "# 1. [] ----> Set of characters\n",
    "import re\n",
    "text = \"today is very hot DAY\"\n",
    "a = re.findall(\"[d-y]\", text) # It will return a set of small charaters that's lie between d to y range\n",
    "a\n"
   ]
  },
  {
   "cell_type": "code",
   "execution_count": 44,
   "id": "714e26db",
   "metadata": {},
   "outputs": [
    {
     "data": {
      "text/plain": [
       "['D', 'A', 'Y']"
      ]
     },
     "execution_count": 44,
     "metadata": {},
     "output_type": "execute_result"
    }
   ],
   "source": [
    "b = re.findall(\"[A-Y]\", text) # It will return set of Capital Characters that's in range of A to Y\n",
    "b"
   ]
  },
  {
   "cell_type": "code",
   "execution_count": 45,
   "id": "f83f9911",
   "metadata": {},
   "outputs": [
    {
     "name": "stdout",
     "output_type": "stream",
     "text": [
      "['5', '9']\n"
     ]
    }
   ],
   "source": [
    "#  2. / ----->Signals a special sequence (can also be used to escape special characters)\n",
    "txt = \"That will be 59 dollars\"\n",
    "\n",
    "#Find all digit characters:\n",
    "\n",
    "x = re.findall(\"\\d\", txt)\n",
    "print(x)"
   ]
  },
  {
   "cell_type": "code",
   "execution_count": 46,
   "id": "a612bbb3",
   "metadata": {},
   "outputs": [
    {
     "data": {
      "text/plain": [
       "['Hello w']"
      ]
     },
     "execution_count": 46,
     "metadata": {},
     "output_type": "execute_result"
    }
   ],
   "source": [
    "# 3. . -------> \tAny character (except newline character)\n",
    "txt = \"Hello world\"\n",
    "re.findall(\"H.... .\", txt)"
   ]
  },
  {
   "cell_type": "code",
   "execution_count": 47,
   "id": "1233966c",
   "metadata": {},
   "outputs": [
    {
     "data": {
      "text/plain": [
       "['R']"
      ]
     },
     "execution_count": 47,
     "metadata": {},
     "output_type": "execute_result"
    }
   ],
   "source": [
    "# 4. ^ ------> start with \n",
    "text = \"Returns a match where the specified characters are at the beginning or at the end of a word the r in the beginning is making sure that the string is being treated as a raw string\"\n",
    "re.findall(\"^R\", text)"
   ]
  },
  {
   "cell_type": "code",
   "execution_count": 55,
   "id": "70675f9f",
   "metadata": {},
   "outputs": [
    {
     "name": "stdout",
     "output_type": "stream",
     "text": [
      "yes\n"
     ]
    }
   ],
   "source": [
    "# 4. $ ------> Ends with \n",
    "text = \"Returns a match\"\n",
    "a = re.findall(\"match$\", text)\n",
    "if a:\n",
    "    print(\"yes\")\n",
    "else:\n",
    "    print(\"no\")\n"
   ]
  },
  {
   "cell_type": "code",
   "execution_count": 53,
   "id": "429a4fae",
   "metadata": {},
   "outputs": [
    {
     "name": "stdout",
     "output_type": "stream",
     "text": [
      "Yes, the string ends with 'planet'\n"
     ]
    }
   ],
   "source": [
    "txt = \"hello planet\"\n",
    "\n",
    "#Check if the string ends with 'planet':\n",
    "\n",
    "x = re.findall(\"planet$\", txt)\n",
    "if x:\n",
    "  print(\"Yes, the string ends with 'planet'\")\n",
    "else:\n",
    "  print(\"No match\")"
   ]
  },
  {
   "cell_type": "code",
   "execution_count": 12,
   "id": "ceddc0a1",
   "metadata": {},
   "outputs": [
    {
     "data": {
      "text/plain": [
       "['he', 'l', 'l', 'o', ' ', 'p', 'l', 'a', 'ne', 't']"
      ]
     },
     "execution_count": 12,
     "metadata": {},
     "output_type": "execute_result"
    }
   ],
   "source": [
    "# 5. * ------> Zero or more occurrences\n",
    "txt = \"hello planet\"\n",
    "x = re.findall(\"e*\", txt)\n",
    "x"
   ]
  },
  {
   "cell_type": "code",
   "execution_count": 14,
   "id": "5440b520",
   "metadata": {},
   "outputs": [
    {
     "name": "stdout",
     "output_type": "stream",
     "text": [
      "['la']\n",
      "[]\n"
     ]
    }
   ],
   "source": [
    "#6. + -------> One or more occurrences\n",
    "txt = \"hello planet\"\n",
    "x = re.findall(\".a+\", txt)\n",
    "print(x)\n",
    "y = re.findall(\".b+\", txt)\n",
    "print(y)"
   ]
  },
  {
   "cell_type": "code",
   "execution_count": 15,
   "id": "4f1a7f27",
   "metadata": {},
   "outputs": [
    {
     "name": "stdout",
     "output_type": "stream",
     "text": [
      "[]\n"
     ]
    }
   ],
   "source": [
    "#7 ? --------> Zero or one occurrences\n",
    "import re\n",
    "\n",
    "txt = \"hello planet\"\n",
    "\n",
    "#Search for a sequence that starts with \"he\", followed by 0 or 1  (any) character, and an \"o\":\n",
    "\n",
    "x = re.findall(\"he.?o\", txt)\n",
    "\n",
    "print(x)\n",
    "\n",
    "#This time we got no match, because there were not zero, not one, but two characters between \"he\" and the \"o\"\n"
   ]
  },
  {
   "cell_type": "code",
   "execution_count": 16,
   "id": "7beb8073",
   "metadata": {},
   "outputs": [
    {
     "name": "stdout",
     "output_type": "stream",
     "text": [
      "['hello']\n"
     ]
    }
   ],
   "source": [
    "#8 {} -------> Exactly the specified number of occurrences\n",
    "import re\n",
    "\n",
    "txt = \"hello planet\"\n",
    "\n",
    "#Search for a sequence that starts with \"he\", followed excactly 2 (any) characters, and an \"o\":\n",
    "\n",
    "x = re.findall(\"he.{2}o\", txt)\n",
    "\n",
    "print(x)\n"
   ]
  },
  {
   "cell_type": "code",
   "execution_count": 17,
   "id": "5768d5e8",
   "metadata": {},
   "outputs": [
    {
     "name": "stdout",
     "output_type": "stream",
     "text": [
      "['falls']\n",
      "Yes, there is at least one match!\n"
     ]
    }
   ],
   "source": [
    "#9 | ---->Either or\n",
    "import re\n",
    "\n",
    "txt = \"The rain in Spain falls mainly in the plain!\"\n",
    "\n",
    "#Check if the string contains either \"falls\" or \"stays\":\n",
    "\n",
    "x = re.findall(\"falls|stays\", txt)\n",
    "\n",
    "print(x)\n",
    "\n",
    "if x:\n",
    "  print(\"Yes, there is at least one match!\")\n",
    "else:\n",
    "  print(\"No match\")\n"
   ]
  },
  {
   "cell_type": "code",
   "execution_count": null,
   "id": "a18906f7",
   "metadata": {},
   "outputs": [],
   "source": []
  }
 ],
 "metadata": {
  "kernelspec": {
   "display_name": "Python 3",
   "language": "python",
   "name": "python3"
  },
  "language_info": {
   "codemirror_mode": {
    "name": "ipython",
    "version": 3
   },
   "file_extension": ".py",
   "mimetype": "text/x-python",
   "name": "python",
   "nbconvert_exporter": "python",
   "pygments_lexer": "ipython3",
   "version": "3.6.3"
  }
 },
 "nbformat": 4,
 "nbformat_minor": 5
}
